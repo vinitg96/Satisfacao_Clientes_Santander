{
 "cells": [
  {
   "cell_type": "markdown",
   "metadata": {
    "id": "YU4gVfoNMH8x"
   },
   "source": [
    "# 1. Definição do problema de negócio"
   ]
  },
  {
   "cell_type": "markdown",
   "metadata": {
    "id": "B9_z74n2MLxA"
   },
   "source": [
    "A satisfação do cliente é uma medida fundamental do sucesso de um banco. Clientes\n",
    "insatisfeitos cancelam seus serviços e raramente expressam sua insatisfação\n",
    "antes de sair. Clientes satisfeitos, por outro lado, se tornam defensores da marca!\n",
    "\n",
    "O objetivo deste projeto é **prever se um cliente está satisfeito ou insatisfeito com sua experiência bancária**. Para tal, centenas de recursos anônimos de clientes do Banco Santander disponíveis estão disponíveis em. O modelo apresentado deve apresentar **no minímo 70% de acurácia**. \n",
    "\n",
    "Com esses dados, o banco poderia identificar clientes instatisfeitos e tomar medidas proativas para melhorar a felicidade do cliente antes que seja tarde de mais.\n"
   ]
  },
  {
   "cell_type": "markdown",
   "metadata": {},
   "source": [
    "# 2. Importando bibliotecas"
   ]
  },
  {
   "cell_type": "code",
   "execution_count": 1,
   "metadata": {},
   "outputs": [],
   "source": [
    "# Pacotes gerais para manipulação e visualização\n",
    "import pandas as pd\n",
    "import seaborn as sn\n",
    "import matplotlib.pyplot as plt\n",
    "import numpy as np\n",
    "\n",
    "#Pré processamento\n",
    "from imblearn.over_sampling import SMOTE\n",
    "from sklearn.decomposition import PCA\n",
    "from sklearn.preprocessing import StandardScaler\n",
    "from sklearn.pipeline import Pipeline\n",
    "\n",
    "#Machine Learning\n",
    "from sklearn.ensemble import RandomForestClassifier\n",
    "import pickle\n",
    "\n",
    "#Avaliação do modelo\n",
    "from sklearn.model_selection import cross_val_score\n",
    "from sklearn.model_selection import cross_val_predict #confusion matrix e clas_report requerem previsões\n",
    "from sklearn.metrics import confusion_matrix\n",
    "from sklearn.metrics import ConfusionMatrixDisplay\n",
    "from sklearn.metrics import classification_report\n"
   ]
  },
  {
   "cell_type": "markdown",
   "metadata": {
    "id": "bjCDUN4Nhgm-",
    "tags": []
   },
   "source": [
    "# 3. Carregando dados"
   ]
  },
  {
   "cell_type": "code",
   "execution_count": 2,
   "metadata": {
    "id": "Dd72cxVCccSM"
   },
   "outputs": [],
   "source": [
    "df = pd.read_csv(\"train.csv\", index_col=\"ID\")"
   ]
  },
  {
   "cell_type": "code",
   "execution_count": 3,
   "metadata": {
    "colab": {
     "base_uri": "https://localhost:8080/",
     "height": 287
    },
    "executionInfo": {
     "elapsed": 310,
     "status": "ok",
     "timestamp": 1637499287940,
     "user": {
      "displayName": "Vinicius Torres",
      "photoUrl": "https://lh3.googleusercontent.com/a-/AOh14Gi7_GrT2W8orC2ZlsdE18Qb-KmZfu97QSKn5_3ShA=s64",
      "userId": "05864275258511900383"
     },
     "user_tz": 180
    },
    "id": "ER0seFHOiRYX",
    "outputId": "9a97a234-1406-46cc-b811-99ec56030ba1"
   },
   "outputs": [
    {
     "data": {
      "text/html": [
       "<div>\n",
       "<style scoped>\n",
       "    .dataframe tbody tr th:only-of-type {\n",
       "        vertical-align: middle;\n",
       "    }\n",
       "\n",
       "    .dataframe tbody tr th {\n",
       "        vertical-align: top;\n",
       "    }\n",
       "\n",
       "    .dataframe thead th {\n",
       "        text-align: right;\n",
       "    }\n",
       "</style>\n",
       "<table border=\"1\" class=\"dataframe\">\n",
       "  <thead>\n",
       "    <tr style=\"text-align: right;\">\n",
       "      <th></th>\n",
       "      <th>var3</th>\n",
       "      <th>var15</th>\n",
       "      <th>imp_ent_var16_ult1</th>\n",
       "      <th>imp_op_var39_comer_ult1</th>\n",
       "      <th>imp_op_var39_comer_ult3</th>\n",
       "      <th>imp_op_var40_comer_ult1</th>\n",
       "      <th>imp_op_var40_comer_ult3</th>\n",
       "      <th>imp_op_var40_efect_ult1</th>\n",
       "      <th>imp_op_var40_efect_ult3</th>\n",
       "      <th>imp_op_var40_ult1</th>\n",
       "      <th>...</th>\n",
       "      <th>saldo_medio_var33_hace2</th>\n",
       "      <th>saldo_medio_var33_hace3</th>\n",
       "      <th>saldo_medio_var33_ult1</th>\n",
       "      <th>saldo_medio_var33_ult3</th>\n",
       "      <th>saldo_medio_var44_hace2</th>\n",
       "      <th>saldo_medio_var44_hace3</th>\n",
       "      <th>saldo_medio_var44_ult1</th>\n",
       "      <th>saldo_medio_var44_ult3</th>\n",
       "      <th>var38</th>\n",
       "      <th>TARGET</th>\n",
       "    </tr>\n",
       "    <tr>\n",
       "      <th>ID</th>\n",
       "      <th></th>\n",
       "      <th></th>\n",
       "      <th></th>\n",
       "      <th></th>\n",
       "      <th></th>\n",
       "      <th></th>\n",
       "      <th></th>\n",
       "      <th></th>\n",
       "      <th></th>\n",
       "      <th></th>\n",
       "      <th></th>\n",
       "      <th></th>\n",
       "      <th></th>\n",
       "      <th></th>\n",
       "      <th></th>\n",
       "      <th></th>\n",
       "      <th></th>\n",
       "      <th></th>\n",
       "      <th></th>\n",
       "      <th></th>\n",
       "      <th></th>\n",
       "    </tr>\n",
       "  </thead>\n",
       "  <tbody>\n",
       "    <tr>\n",
       "      <th>1</th>\n",
       "      <td>2</td>\n",
       "      <td>23</td>\n",
       "      <td>0.0</td>\n",
       "      <td>0.0</td>\n",
       "      <td>0.0</td>\n",
       "      <td>0.0</td>\n",
       "      <td>0.0</td>\n",
       "      <td>0.0</td>\n",
       "      <td>0.0</td>\n",
       "      <td>0.0</td>\n",
       "      <td>...</td>\n",
       "      <td>0.0</td>\n",
       "      <td>0.0</td>\n",
       "      <td>0.0</td>\n",
       "      <td>0.0</td>\n",
       "      <td>0.0</td>\n",
       "      <td>0.0</td>\n",
       "      <td>0.0</td>\n",
       "      <td>0.0</td>\n",
       "      <td>39205.170000</td>\n",
       "      <td>0</td>\n",
       "    </tr>\n",
       "    <tr>\n",
       "      <th>3</th>\n",
       "      <td>2</td>\n",
       "      <td>34</td>\n",
       "      <td>0.0</td>\n",
       "      <td>0.0</td>\n",
       "      <td>0.0</td>\n",
       "      <td>0.0</td>\n",
       "      <td>0.0</td>\n",
       "      <td>0.0</td>\n",
       "      <td>0.0</td>\n",
       "      <td>0.0</td>\n",
       "      <td>...</td>\n",
       "      <td>0.0</td>\n",
       "      <td>0.0</td>\n",
       "      <td>0.0</td>\n",
       "      <td>0.0</td>\n",
       "      <td>0.0</td>\n",
       "      <td>0.0</td>\n",
       "      <td>0.0</td>\n",
       "      <td>0.0</td>\n",
       "      <td>49278.030000</td>\n",
       "      <td>0</td>\n",
       "    </tr>\n",
       "    <tr>\n",
       "      <th>4</th>\n",
       "      <td>2</td>\n",
       "      <td>23</td>\n",
       "      <td>0.0</td>\n",
       "      <td>0.0</td>\n",
       "      <td>0.0</td>\n",
       "      <td>0.0</td>\n",
       "      <td>0.0</td>\n",
       "      <td>0.0</td>\n",
       "      <td>0.0</td>\n",
       "      <td>0.0</td>\n",
       "      <td>...</td>\n",
       "      <td>0.0</td>\n",
       "      <td>0.0</td>\n",
       "      <td>0.0</td>\n",
       "      <td>0.0</td>\n",
       "      <td>0.0</td>\n",
       "      <td>0.0</td>\n",
       "      <td>0.0</td>\n",
       "      <td>0.0</td>\n",
       "      <td>67333.770000</td>\n",
       "      <td>0</td>\n",
       "    </tr>\n",
       "    <tr>\n",
       "      <th>8</th>\n",
       "      <td>2</td>\n",
       "      <td>37</td>\n",
       "      <td>0.0</td>\n",
       "      <td>195.0</td>\n",
       "      <td>195.0</td>\n",
       "      <td>0.0</td>\n",
       "      <td>0.0</td>\n",
       "      <td>0.0</td>\n",
       "      <td>0.0</td>\n",
       "      <td>0.0</td>\n",
       "      <td>...</td>\n",
       "      <td>0.0</td>\n",
       "      <td>0.0</td>\n",
       "      <td>0.0</td>\n",
       "      <td>0.0</td>\n",
       "      <td>0.0</td>\n",
       "      <td>0.0</td>\n",
       "      <td>0.0</td>\n",
       "      <td>0.0</td>\n",
       "      <td>64007.970000</td>\n",
       "      <td>0</td>\n",
       "    </tr>\n",
       "    <tr>\n",
       "      <th>10</th>\n",
       "      <td>2</td>\n",
       "      <td>39</td>\n",
       "      <td>0.0</td>\n",
       "      <td>0.0</td>\n",
       "      <td>0.0</td>\n",
       "      <td>0.0</td>\n",
       "      <td>0.0</td>\n",
       "      <td>0.0</td>\n",
       "      <td>0.0</td>\n",
       "      <td>0.0</td>\n",
       "      <td>...</td>\n",
       "      <td>0.0</td>\n",
       "      <td>0.0</td>\n",
       "      <td>0.0</td>\n",
       "      <td>0.0</td>\n",
       "      <td>0.0</td>\n",
       "      <td>0.0</td>\n",
       "      <td>0.0</td>\n",
       "      <td>0.0</td>\n",
       "      <td>117310.979016</td>\n",
       "      <td>0</td>\n",
       "    </tr>\n",
       "  </tbody>\n",
       "</table>\n",
       "<p>5 rows × 370 columns</p>\n",
       "</div>"
      ],
      "text/plain": [
       "    var3  var15  imp_ent_var16_ult1  imp_op_var39_comer_ult1  \\\n",
       "ID                                                             \n",
       "1      2     23                 0.0                      0.0   \n",
       "3      2     34                 0.0                      0.0   \n",
       "4      2     23                 0.0                      0.0   \n",
       "8      2     37                 0.0                    195.0   \n",
       "10     2     39                 0.0                      0.0   \n",
       "\n",
       "    imp_op_var39_comer_ult3  imp_op_var40_comer_ult1  imp_op_var40_comer_ult3  \\\n",
       "ID                                                                              \n",
       "1                       0.0                      0.0                      0.0   \n",
       "3                       0.0                      0.0                      0.0   \n",
       "4                       0.0                      0.0                      0.0   \n",
       "8                     195.0                      0.0                      0.0   \n",
       "10                      0.0                      0.0                      0.0   \n",
       "\n",
       "    imp_op_var40_efect_ult1  imp_op_var40_efect_ult3  imp_op_var40_ult1  ...  \\\n",
       "ID                                                                       ...   \n",
       "1                       0.0                      0.0                0.0  ...   \n",
       "3                       0.0                      0.0                0.0  ...   \n",
       "4                       0.0                      0.0                0.0  ...   \n",
       "8                       0.0                      0.0                0.0  ...   \n",
       "10                      0.0                      0.0                0.0  ...   \n",
       "\n",
       "    saldo_medio_var33_hace2  saldo_medio_var33_hace3  saldo_medio_var33_ult1  \\\n",
       "ID                                                                             \n",
       "1                       0.0                      0.0                     0.0   \n",
       "3                       0.0                      0.0                     0.0   \n",
       "4                       0.0                      0.0                     0.0   \n",
       "8                       0.0                      0.0                     0.0   \n",
       "10                      0.0                      0.0                     0.0   \n",
       "\n",
       "    saldo_medio_var33_ult3  saldo_medio_var44_hace2  saldo_medio_var44_hace3  \\\n",
       "ID                                                                             \n",
       "1                      0.0                      0.0                      0.0   \n",
       "3                      0.0                      0.0                      0.0   \n",
       "4                      0.0                      0.0                      0.0   \n",
       "8                      0.0                      0.0                      0.0   \n",
       "10                     0.0                      0.0                      0.0   \n",
       "\n",
       "    saldo_medio_var44_ult1  saldo_medio_var44_ult3          var38  TARGET  \n",
       "ID                                                                         \n",
       "1                      0.0                     0.0   39205.170000       0  \n",
       "3                      0.0                     0.0   49278.030000       0  \n",
       "4                      0.0                     0.0   67333.770000       0  \n",
       "8                      0.0                     0.0   64007.970000       0  \n",
       "10                     0.0                     0.0  117310.979016       0  \n",
       "\n",
       "[5 rows x 370 columns]"
      ]
     },
     "execution_count": 3,
     "metadata": {},
     "output_type": "execute_result"
    }
   ],
   "source": [
    "df.head()"
   ]
  },
  {
   "cell_type": "code",
   "execution_count": 4,
   "metadata": {
    "colab": {
     "base_uri": "https://localhost:8080/",
     "height": 350
    },
    "executionInfo": {
     "elapsed": 1555,
     "status": "ok",
     "timestamp": 1637499316494,
     "user": {
      "displayName": "Vinicius Torres",
      "photoUrl": "https://lh3.googleusercontent.com/a-/AOh14Gi7_GrT2W8orC2ZlsdE18Qb-KmZfu97QSKn5_3ShA=s64",
      "userId": "05864275258511900383"
     },
     "user_tz": 180
    },
    "id": "qX_9BPJ9kJgV",
    "outputId": "c0fdf44a-bdab-478e-e662-c5b4bebe49c1"
   },
   "outputs": [
    {
     "data": {
      "text/html": [
       "<div>\n",
       "<style scoped>\n",
       "    .dataframe tbody tr th:only-of-type {\n",
       "        vertical-align: middle;\n",
       "    }\n",
       "\n",
       "    .dataframe tbody tr th {\n",
       "        vertical-align: top;\n",
       "    }\n",
       "\n",
       "    .dataframe thead th {\n",
       "        text-align: right;\n",
       "    }\n",
       "</style>\n",
       "<table border=\"1\" class=\"dataframe\">\n",
       "  <thead>\n",
       "    <tr style=\"text-align: right;\">\n",
       "      <th></th>\n",
       "      <th>var3</th>\n",
       "      <th>var15</th>\n",
       "      <th>imp_ent_var16_ult1</th>\n",
       "      <th>imp_op_var39_comer_ult1</th>\n",
       "      <th>imp_op_var39_comer_ult3</th>\n",
       "      <th>imp_op_var40_comer_ult1</th>\n",
       "      <th>imp_op_var40_comer_ult3</th>\n",
       "      <th>imp_op_var40_efect_ult1</th>\n",
       "      <th>imp_op_var40_efect_ult3</th>\n",
       "      <th>imp_op_var40_ult1</th>\n",
       "      <th>...</th>\n",
       "      <th>saldo_medio_var33_hace2</th>\n",
       "      <th>saldo_medio_var33_hace3</th>\n",
       "      <th>saldo_medio_var33_ult1</th>\n",
       "      <th>saldo_medio_var33_ult3</th>\n",
       "      <th>saldo_medio_var44_hace2</th>\n",
       "      <th>saldo_medio_var44_hace3</th>\n",
       "      <th>saldo_medio_var44_ult1</th>\n",
       "      <th>saldo_medio_var44_ult3</th>\n",
       "      <th>var38</th>\n",
       "      <th>TARGET</th>\n",
       "    </tr>\n",
       "  </thead>\n",
       "  <tbody>\n",
       "    <tr>\n",
       "      <th>count</th>\n",
       "      <td>76020.00</td>\n",
       "      <td>76020.00</td>\n",
       "      <td>76020.00</td>\n",
       "      <td>76020.00</td>\n",
       "      <td>76020.00</td>\n",
       "      <td>76020.00</td>\n",
       "      <td>76020.00</td>\n",
       "      <td>76020.00</td>\n",
       "      <td>76020.00</td>\n",
       "      <td>76020.00</td>\n",
       "      <td>...</td>\n",
       "      <td>76020.00</td>\n",
       "      <td>76020.00</td>\n",
       "      <td>76020.00</td>\n",
       "      <td>76020.00</td>\n",
       "      <td>76020.00</td>\n",
       "      <td>76020.00</td>\n",
       "      <td>76020.00</td>\n",
       "      <td>76020.00</td>\n",
       "      <td>76020.00</td>\n",
       "      <td>76020.00</td>\n",
       "    </tr>\n",
       "    <tr>\n",
       "      <th>mean</th>\n",
       "      <td>-1523.20</td>\n",
       "      <td>33.21</td>\n",
       "      <td>86.21</td>\n",
       "      <td>72.36</td>\n",
       "      <td>119.53</td>\n",
       "      <td>3.56</td>\n",
       "      <td>6.47</td>\n",
       "      <td>0.41</td>\n",
       "      <td>0.57</td>\n",
       "      <td>3.16</td>\n",
       "      <td>...</td>\n",
       "      <td>7.94</td>\n",
       "      <td>1.37</td>\n",
       "      <td>12.22</td>\n",
       "      <td>8.78</td>\n",
       "      <td>31.51</td>\n",
       "      <td>1.86</td>\n",
       "      <td>76.03</td>\n",
       "      <td>56.61</td>\n",
       "      <td>117235.81</td>\n",
       "      <td>0.04</td>\n",
       "    </tr>\n",
       "    <tr>\n",
       "      <th>std</th>\n",
       "      <td>39033.46</td>\n",
       "      <td>12.96</td>\n",
       "      <td>1614.76</td>\n",
       "      <td>339.32</td>\n",
       "      <td>546.27</td>\n",
       "      <td>93.16</td>\n",
       "      <td>153.74</td>\n",
       "      <td>30.60</td>\n",
       "      <td>36.51</td>\n",
       "      <td>95.27</td>\n",
       "      <td>...</td>\n",
       "      <td>455.89</td>\n",
       "      <td>113.96</td>\n",
       "      <td>783.21</td>\n",
       "      <td>538.44</td>\n",
       "      <td>2013.13</td>\n",
       "      <td>147.79</td>\n",
       "      <td>4040.34</td>\n",
       "      <td>2852.58</td>\n",
       "      <td>182664.60</td>\n",
       "      <td>0.19</td>\n",
       "    </tr>\n",
       "    <tr>\n",
       "      <th>min</th>\n",
       "      <td>-999999.00</td>\n",
       "      <td>5.00</td>\n",
       "      <td>0.00</td>\n",
       "      <td>0.00</td>\n",
       "      <td>0.00</td>\n",
       "      <td>0.00</td>\n",
       "      <td>0.00</td>\n",
       "      <td>0.00</td>\n",
       "      <td>0.00</td>\n",
       "      <td>0.00</td>\n",
       "      <td>...</td>\n",
       "      <td>0.00</td>\n",
       "      <td>0.00</td>\n",
       "      <td>0.00</td>\n",
       "      <td>0.00</td>\n",
       "      <td>0.00</td>\n",
       "      <td>0.00</td>\n",
       "      <td>0.00</td>\n",
       "      <td>0.00</td>\n",
       "      <td>5163.75</td>\n",
       "      <td>0.00</td>\n",
       "    </tr>\n",
       "    <tr>\n",
       "      <th>25%</th>\n",
       "      <td>2.00</td>\n",
       "      <td>23.00</td>\n",
       "      <td>0.00</td>\n",
       "      <td>0.00</td>\n",
       "      <td>0.00</td>\n",
       "      <td>0.00</td>\n",
       "      <td>0.00</td>\n",
       "      <td>0.00</td>\n",
       "      <td>0.00</td>\n",
       "      <td>0.00</td>\n",
       "      <td>...</td>\n",
       "      <td>0.00</td>\n",
       "      <td>0.00</td>\n",
       "      <td>0.00</td>\n",
       "      <td>0.00</td>\n",
       "      <td>0.00</td>\n",
       "      <td>0.00</td>\n",
       "      <td>0.00</td>\n",
       "      <td>0.00</td>\n",
       "      <td>67870.61</td>\n",
       "      <td>0.00</td>\n",
       "    </tr>\n",
       "    <tr>\n",
       "      <th>50%</th>\n",
       "      <td>2.00</td>\n",
       "      <td>28.00</td>\n",
       "      <td>0.00</td>\n",
       "      <td>0.00</td>\n",
       "      <td>0.00</td>\n",
       "      <td>0.00</td>\n",
       "      <td>0.00</td>\n",
       "      <td>0.00</td>\n",
       "      <td>0.00</td>\n",
       "      <td>0.00</td>\n",
       "      <td>...</td>\n",
       "      <td>0.00</td>\n",
       "      <td>0.00</td>\n",
       "      <td>0.00</td>\n",
       "      <td>0.00</td>\n",
       "      <td>0.00</td>\n",
       "      <td>0.00</td>\n",
       "      <td>0.00</td>\n",
       "      <td>0.00</td>\n",
       "      <td>106409.16</td>\n",
       "      <td>0.00</td>\n",
       "    </tr>\n",
       "    <tr>\n",
       "      <th>75%</th>\n",
       "      <td>2.00</td>\n",
       "      <td>40.00</td>\n",
       "      <td>0.00</td>\n",
       "      <td>0.00</td>\n",
       "      <td>0.00</td>\n",
       "      <td>0.00</td>\n",
       "      <td>0.00</td>\n",
       "      <td>0.00</td>\n",
       "      <td>0.00</td>\n",
       "      <td>0.00</td>\n",
       "      <td>...</td>\n",
       "      <td>0.00</td>\n",
       "      <td>0.00</td>\n",
       "      <td>0.00</td>\n",
       "      <td>0.00</td>\n",
       "      <td>0.00</td>\n",
       "      <td>0.00</td>\n",
       "      <td>0.00</td>\n",
       "      <td>0.00</td>\n",
       "      <td>118756.25</td>\n",
       "      <td>0.00</td>\n",
       "    </tr>\n",
       "    <tr>\n",
       "      <th>max</th>\n",
       "      <td>238.00</td>\n",
       "      <td>105.00</td>\n",
       "      <td>210000.00</td>\n",
       "      <td>12888.03</td>\n",
       "      <td>21024.81</td>\n",
       "      <td>8237.82</td>\n",
       "      <td>11073.57</td>\n",
       "      <td>6600.00</td>\n",
       "      <td>6600.00</td>\n",
       "      <td>8237.82</td>\n",
       "      <td>...</td>\n",
       "      <td>50003.88</td>\n",
       "      <td>20385.72</td>\n",
       "      <td>138831.63</td>\n",
       "      <td>91778.73</td>\n",
       "      <td>438329.22</td>\n",
       "      <td>24650.01</td>\n",
       "      <td>681462.90</td>\n",
       "      <td>397884.30</td>\n",
       "      <td>22034738.76</td>\n",
       "      <td>1.00</td>\n",
       "    </tr>\n",
       "  </tbody>\n",
       "</table>\n",
       "<p>8 rows × 370 columns</p>\n",
       "</div>"
      ],
      "text/plain": [
       "            var3     var15  imp_ent_var16_ult1  imp_op_var39_comer_ult1  \\\n",
       "count   76020.00  76020.00            76020.00                 76020.00   \n",
       "mean    -1523.20     33.21               86.21                    72.36   \n",
       "std     39033.46     12.96             1614.76                   339.32   \n",
       "min   -999999.00      5.00                0.00                     0.00   \n",
       "25%         2.00     23.00                0.00                     0.00   \n",
       "50%         2.00     28.00                0.00                     0.00   \n",
       "75%         2.00     40.00                0.00                     0.00   \n",
       "max       238.00    105.00           210000.00                 12888.03   \n",
       "\n",
       "       imp_op_var39_comer_ult3  imp_op_var40_comer_ult1  \\\n",
       "count                 76020.00                 76020.00   \n",
       "mean                    119.53                     3.56   \n",
       "std                     546.27                    93.16   \n",
       "min                       0.00                     0.00   \n",
       "25%                       0.00                     0.00   \n",
       "50%                       0.00                     0.00   \n",
       "75%                       0.00                     0.00   \n",
       "max                   21024.81                  8237.82   \n",
       "\n",
       "       imp_op_var40_comer_ult3  imp_op_var40_efect_ult1  \\\n",
       "count                 76020.00                 76020.00   \n",
       "mean                      6.47                     0.41   \n",
       "std                     153.74                    30.60   \n",
       "min                       0.00                     0.00   \n",
       "25%                       0.00                     0.00   \n",
       "50%                       0.00                     0.00   \n",
       "75%                       0.00                     0.00   \n",
       "max                   11073.57                  6600.00   \n",
       "\n",
       "       imp_op_var40_efect_ult3  imp_op_var40_ult1  ...  \\\n",
       "count                 76020.00           76020.00  ...   \n",
       "mean                      0.57               3.16  ...   \n",
       "std                      36.51              95.27  ...   \n",
       "min                       0.00               0.00  ...   \n",
       "25%                       0.00               0.00  ...   \n",
       "50%                       0.00               0.00  ...   \n",
       "75%                       0.00               0.00  ...   \n",
       "max                    6600.00            8237.82  ...   \n",
       "\n",
       "       saldo_medio_var33_hace2  saldo_medio_var33_hace3  \\\n",
       "count                 76020.00                 76020.00   \n",
       "mean                      7.94                     1.37   \n",
       "std                     455.89                   113.96   \n",
       "min                       0.00                     0.00   \n",
       "25%                       0.00                     0.00   \n",
       "50%                       0.00                     0.00   \n",
       "75%                       0.00                     0.00   \n",
       "max                   50003.88                 20385.72   \n",
       "\n",
       "       saldo_medio_var33_ult1  saldo_medio_var33_ult3  \\\n",
       "count                76020.00                76020.00   \n",
       "mean                    12.22                    8.78   \n",
       "std                    783.21                  538.44   \n",
       "min                      0.00                    0.00   \n",
       "25%                      0.00                    0.00   \n",
       "50%                      0.00                    0.00   \n",
       "75%                      0.00                    0.00   \n",
       "max                 138831.63                91778.73   \n",
       "\n",
       "       saldo_medio_var44_hace2  saldo_medio_var44_hace3  \\\n",
       "count                 76020.00                 76020.00   \n",
       "mean                     31.51                     1.86   \n",
       "std                    2013.13                   147.79   \n",
       "min                       0.00                     0.00   \n",
       "25%                       0.00                     0.00   \n",
       "50%                       0.00                     0.00   \n",
       "75%                       0.00                     0.00   \n",
       "max                  438329.22                 24650.01   \n",
       "\n",
       "       saldo_medio_var44_ult1  saldo_medio_var44_ult3        var38    TARGET  \n",
       "count                76020.00                76020.00     76020.00  76020.00  \n",
       "mean                    76.03                   56.61    117235.81      0.04  \n",
       "std                   4040.34                 2852.58    182664.60      0.19  \n",
       "min                      0.00                    0.00      5163.75      0.00  \n",
       "25%                      0.00                    0.00     67870.61      0.00  \n",
       "50%                      0.00                    0.00    106409.16      0.00  \n",
       "75%                      0.00                    0.00    118756.25      0.00  \n",
       "max                 681462.90               397884.30  22034738.76      1.00  \n",
       "\n",
       "[8 rows x 370 columns]"
      ]
     },
     "execution_count": 4,
     "metadata": {},
     "output_type": "execute_result"
    }
   ],
   "source": [
    "df.describe().round(2)"
   ]
  },
  {
   "cell_type": "code",
   "execution_count": 5,
   "metadata": {
    "colab": {
     "base_uri": "https://localhost:8080/"
    },
    "executionInfo": {
     "elapsed": 345,
     "status": "ok",
     "timestamp": 1637499367524,
     "user": {
      "displayName": "Vinicius Torres",
      "photoUrl": "https://lh3.googleusercontent.com/a-/AOh14Gi7_GrT2W8orC2ZlsdE18Qb-KmZfu97QSKn5_3ShA=s64",
      "userId": "05864275258511900383"
     },
     "user_tz": 180
    },
    "id": "2c6fjMGIkWE9",
    "outputId": "bad7de22-c8fc-4bbd-f5b9-ced0873a9de4"
   },
   "outputs": [
    {
     "name": "stdout",
     "output_type": "stream",
     "text": [
      "<class 'pandas.core.frame.DataFrame'>\n",
      "Int64Index: 76020 entries, 1 to 151838\n",
      "Columns: 370 entries, var3 to TARGET\n",
      "dtypes: float64(111), int64(259)\n",
      "memory usage: 215.2 MB\n"
     ]
    }
   ],
   "source": [
    "df.info()"
   ]
  },
  {
   "cell_type": "code",
   "execution_count": 6,
   "metadata": {
    "colab": {
     "base_uri": "https://localhost:8080/"
    },
    "executionInfo": {
     "elapsed": 303,
     "status": "ok",
     "timestamp": 1637499490852,
     "user": {
      "displayName": "Vinicius Torres",
      "photoUrl": "https://lh3.googleusercontent.com/a-/AOh14Gi7_GrT2W8orC2ZlsdE18Qb-KmZfu97QSKn5_3ShA=s64",
      "userId": "05864275258511900383"
     },
     "user_tz": 180
    },
    "id": "ZzV6CqcGktgA",
    "outputId": "89449680-319f-4a07-8327-d940bfd1e2ca"
   },
   "outputs": [
    {
     "data": {
      "text/plain": [
       "False"
      ]
     },
     "execution_count": 6,
     "metadata": {},
     "output_type": "execute_result"
    }
   ],
   "source": [
    "df.isnull().values.any()"
   ]
  },
  {
   "cell_type": "markdown",
   "metadata": {
    "id": "CS5XIt10kYpe"
   },
   "source": [
    "- O *dataframe* possui 370 variáveis e 76.020 observações.\n",
    "\n",
    "- Todos valores estão no formato numérico.\n",
    "\n",
    "- Não há valores *missing*."
   ]
  },
  {
   "cell_type": "markdown",
   "metadata": {
    "id": "I3CLozivlTh0"
   },
   "source": [
    "# 4. Pré-processamento"
   ]
  },
  {
   "cell_type": "code",
   "execution_count": 7,
   "metadata": {
    "id": "GMzBgpcRlkyZ"
   },
   "outputs": [],
   "source": [
    "# Separando a variável target das preditoras\n",
    "\n",
    "X_train = df.drop(\"TARGET\", axis = 1)\n",
    "y_train = df[\"TARGET\"]"
   ]
  },
  {
   "cell_type": "markdown",
   "metadata": {
    "id": "zwrC5_hLmHsH",
    "tags": []
   },
   "source": [
    "## 4.1 Balancear as classes da variável target"
   ]
  },
  {
   "cell_type": "code",
   "execution_count": 8,
   "metadata": {
    "colab": {
     "base_uri": "https://localhost:8080/",
     "height": 279
    },
    "executionInfo": {
     "elapsed": 338,
     "status": "ok",
     "timestamp": 1637500014698,
     "user": {
      "displayName": "Vinicius Torres",
      "photoUrl": "https://lh3.googleusercontent.com/a-/AOh14Gi7_GrT2W8orC2ZlsdE18Qb-KmZfu97QSKn5_3ShA=s64",
      "userId": "05864275258511900383"
     },
     "user_tz": 180
    },
    "id": "RTOIPP3FmXZ3",
    "outputId": "4f4e3d33-8f03-43ad-e375-dc871e7cc25c"
   },
   "outputs": [
    {
     "data": {
      "image/png": "[encoded data removed]",
      "text/plain": [
       "<Figure size 432x288 with 1 Axes>"
      ]
     },
     "metadata": {
      "needs_background": "light"
     },
     "output_type": "display_data"
    }
   ],
   "source": [
    "#avaliando variável target\n",
    "\n",
    "sn.countplot(data = df, x = \"TARGET\")\n",
    "plt.show()"
   ]
  },
  {
   "cell_type": "markdown",
   "metadata": {
    "id": "Hu85uN0Dm3ji"
   },
   "source": [
    "Nota-se que as classes 0 (Cliente Satisfeito) e 1 (Cliente não satisfeito) estão desbalanceadas.\n",
    "\n",
    "Serão geradas novas observações para a classe minoritária a partir do método **SMOTE** (*Synthetic Minority Oversampling Technique*)."
   ]
  },
  {
   "cell_type": "code",
   "execution_count": 9,
   "metadata": {
    "id": "5ahmpDVdnUlw"
   },
   "outputs": [],
   "source": [
    "oversample = SMOTE()\n",
    "\n",
    "X_train_SMOTE, y_train_SMOTE = oversample.fit_resample(X_train, y_train)"
   ]
  },
  {
   "cell_type": "code",
   "execution_count": 10,
   "metadata": {
    "colab": {
     "base_uri": "https://localhost:8080/",
     "height": 279
    },
    "executionInfo": {
     "elapsed": 577,
     "status": "ok",
     "timestamp": 1637500261863,
     "user": {
      "displayName": "Vinicius Torres",
      "photoUrl": "https://lh3.googleusercontent.com/a-/AOh14Gi7_GrT2W8orC2ZlsdE18Qb-KmZfu97QSKn5_3ShA=s64",
      "userId": "05864275258511900383"
     },
     "user_tz": 180
    },
    "id": "kK6alHzUnnBv",
    "outputId": "512843f8-9e9d-402d-c156-f531ce677466"
   },
   "outputs": [
    {
     "data": {
      "image/png": "[encoded data removed]",
      "text/plain": [
       "<Figure size 432x288 with 1 Axes>"
      ]
     },
     "metadata": {
      "needs_background": "light"
     },
     "output_type": "display_data"
    }
   ],
   "source": [
    "sn.countplot(x = y_train_SMOTE)\n",
    "plt.show()"
   ]
  },
  {
   "cell_type": "markdown",
   "metadata": {
    "id": "SY_fFO8pn14D"
   },
   "source": [
    "Agora as classes estão balanceadas e podemos prosseguir para as próximas etapas de processamento"
   ]
  },
  {
   "cell_type": "markdown",
   "metadata": {
    "id": "plhfUy4ooFCM"
   },
   "source": [
    "## 4.2 Redução de dimensionalidade"
   ]
  },
  {
   "cell_type": "markdown",
   "metadata": {
    "id": "aUMCwGrxoOXv"
   },
   "source": [
    "Como se trata de um conjunto de dados com 370 variáveis as dimensões serão reduzidas em componentes principais usando *Principal Component Analysis* (PCA).\n",
    "\n",
    "A PCA requer que os dados estejam padronizados. Para isso será utilizado o método *StandardScaler*"
   ]
  },
  {
   "cell_type": "code",
   "execution_count": 11,
   "metadata": {
    "id": "x0ozbFIvpevL"
   },
   "outputs": [],
   "source": [
    "#padronizando as variáveis preditoras\n",
    "\n",
    "scaler = StandardScaler()\n",
    "X_train_SMOTE_scaled = scaler.fit_transform(X_train_SMOTE)"
   ]
  },
  {
   "cell_type": "code",
   "execution_count": 12,
   "metadata": {
    "colab": {
     "base_uri": "https://localhost:8080/",
     "height": 279
    },
    "executionInfo": {
     "elapsed": 9523,
     "status": "ok",
     "timestamp": 1637500932807,
     "user": {
      "displayName": "Vinicius Torres",
      "photoUrl": "https://lh3.googleusercontent.com/a-/AOh14Gi7_GrT2W8orC2ZlsdE18Qb-KmZfu97QSKn5_3ShA=s64",
      "userId": "05864275258511900383"
     },
     "user_tz": 180
    },
    "id": "so7SC8Vtpiq-",
    "outputId": "f8261be4-c06a-4dbb-a0a4-552045052f27"
   },
   "outputs": [
    {
     "data": {
      "image/png": "[encoded data removed]",
      "text/plain": [
       "<Figure size 432x288 with 1 Axes>"
      ]
     },
     "metadata": {
      "needs_background": "light"
     },
     "output_type": "display_data"
    }
   ],
   "source": [
    "# Definindo o número de componentes\n",
    "\n",
    "pca = PCA()\n",
    "pca.fit(X_train_SMOTE_scaled)\n",
    "\n",
    "plt.plot(np.cumsum(pca.explained_variance_ratio_))\n",
    "plt.xlabel(\"Componentes\")\n",
    "plt.ylabel(\"Variancia cumulativa esxplicada\")\n",
    "plt.show()"
   ]
  },
  {
   "cell_type": "markdown",
   "metadata": {
    "id": "UpzL7NVfqXYf"
   },
   "source": [
    "A partir de aproximadamente 150 componentes a percentagem da variância explicada se estabiliza em cerca de 95.\n",
    "\n",
    "Assim, as 370 variáveis serão resumidas em 150 componentes pricnipais que explicam 95% da variância presente no *dataframe* original"
   ]
  },
  {
   "cell_type": "code",
   "execution_count": 13,
   "metadata": {
    "id": "HuV0o11Kqde7"
   },
   "outputs": [],
   "source": [
    "#Aplicando PCA com numero de componentes definidos\n",
    "\n",
    "componentes = 150\n",
    "pca = PCA(n_components=componentes)\n",
    "\n",
    "X_train_componentes = pca.fit_transform(X_train_SMOTE_scaled)"
   ]
  },
  {
   "cell_type": "markdown",
   "metadata": {
    "id": "4EazcDHlq4PE"
   },
   "source": [
    "# 5. Machine Learning"
   ]
  },
  {
   "cell_type": "markdown",
   "metadata": {
    "id": "Fka8SOBTrFOo"
   },
   "source": [
    "## 5.1 Avaliando acurácia do classificador *Random Forest* com *Cross Validation*"
   ]
  },
  {
   "cell_type": "code",
   "execution_count": 14,
   "metadata": {},
   "outputs": [],
   "source": [
    "#instanciando objeto da classe RandomForestClassifier\n",
    "clf = RandomForestClassifier()"
   ]
  },
  {
   "cell_type": "code",
   "execution_count": null,
   "metadata": {
    "id": "EjYqjhh3rYgD"
   },
   "outputs": [],
   "source": [
    "#aplicando cross validation nos dados de treino com Random Forest\n",
    "scores = cross_val_score(clf, X_train_componentes, y_train_SMOTE, scoring=\"accuracy\", cv = 5)"
   ]
  },
  {
   "cell_type": "code",
   "execution_count": null,
   "metadata": {
    "id": "TTGeIbNjvkO5"
   },
   "outputs": [],
   "source": [
    "scores_mean = (np.mean(scores)*100).round(2)\n",
    "scores_sd = (np.std(scores)*100).round(2)"
   ]
  },
  {
   "cell_type": "code",
   "execution_count": null,
   "metadata": {
    "id": "du8vweJDwbt9"
   },
   "outputs": [],
   "source": [
    "#Salvando scores e sd da cross validation\n",
    "np.save(\"scores_cross_val.npy\", scores_mean)\n",
    "np.save(\"sd_cross_val.npy\", scores_sd)"
   ]
  },
  {
   "cell_type": "code",
   "execution_count": 15,
   "metadata": {
    "id": "yNEPNCRhw539"
   },
   "outputs": [],
   "source": [
    "#Carregando scores e sd da cross validation\n",
    "scores_mean = np.load(\"scores_cross_val.npy\")\n",
    "scores_sd = np.load(\"sd_cross_val.npy\")"
   ]
  },
  {
   "cell_type": "code",
   "execution_count": 16,
   "metadata": {
    "colab": {
     "base_uri": "https://localhost:8080/"
    },
    "executionInfo": {
     "elapsed": 328,
     "status": "ok",
     "timestamp": 1637502743421,
     "user": {
      "displayName": "Vinicius Torres",
      "photoUrl": "https://lh3.googleusercontent.com/a-/AOh14Gi7_GrT2W8orC2ZlsdE18Qb-KmZfu97QSKn5_3ShA=s64",
      "userId": "05864275258511900383"
     },
     "user_tz": 180
    },
    "id": "wuluFezBvs65",
    "outputId": "6c2803a0-4c3b-4e69-de32-5cf4d4478620"
   },
   "outputs": [
    {
     "name": "stdout",
     "output_type": "stream",
     "text": [
      "Acurácia de 93.04% ± 1.49%\n"
     ]
    }
   ],
   "source": [
    "print(f\"Acurácia de {scores_mean}% ± {scores_sd}%\")"
   ]
  },
  {
   "cell_type": "markdown",
   "metadata": {
    "id": "gDN1REW7xmoT"
   },
   "source": [
    "A primeira versão do modelo com o *Random Forest* apresentou uma acurácia bastante superior ao limiar estabelecido (70%)."
   ]
  },
  {
   "cell_type": "markdown",
   "metadata": {
    "id": "M2nNNwvMx9c9"
   },
   "source": [
    "## 5.2 Avaliando performance do classificador *Random Forest* com outras métricas"
   ]
  },
  {
   "cell_type": "markdown",
   "metadata": {
    "id": "Uz303Tv51UIU"
   },
   "source": [
    "### 5.2.1 *Confusion Matrix*"
   ]
  },
  {
   "cell_type": "code",
   "execution_count": null,
   "metadata": {
    "id": "V907X6iXyZ5R"
   },
   "outputs": [],
   "source": [
    "# realizando previsões nos dados de treino\n",
    "y_train_pred = cross_val_predict(clf, X_train_componentes, y_train_SMOTE)"
   ]
  },
  {
   "cell_type": "code",
   "execution_count": null,
   "metadata": {
    "id": "ZEYH96V20nKf"
   },
   "outputs": [],
   "source": [
    "#salvando previsões\n",
    "np.save(\"predict_cross_val.npy\", y_train_pred)"
   ]
  },
  {
   "cell_type": "code",
   "execution_count": 17,
   "metadata": {
    "id": "gUjpDEJB0t6m"
   },
   "outputs": [],
   "source": [
    "#carregando previsões\n",
    "y_train_pred = np.load(\"predict_cross_val.npy\")"
   ]
  },
  {
   "cell_type": "code",
   "execution_count": 19,
   "metadata": {
    "colab": {
     "base_uri": "https://localhost:8080/",
     "height": 279
    },
    "executionInfo": {
     "elapsed": 349,
     "status": "ok",
     "timestamp": 1637504724137,
     "user": {
      "displayName": "Vinicius Torres",
      "photoUrl": "https://lh3.googleusercontent.com/a-/AOh14Gi7_GrT2W8orC2ZlsdE18Qb-KmZfu97QSKn5_3ShA=s64",
      "userId": "05864275258511900383"
     },
     "user_tz": 180
    },
    "id": "rNvrcJ6p1LZB",
    "outputId": "33a6b858-62df-43f6-d564-c178dd31bf6f"
   },
   "outputs": [
    {
     "data": {
      "image/png": "[encoded data removed]",
      "text/plain": [
       "<Figure size 432x288 with 2 Axes>"
      ]
     },
     "metadata": {
      "needs_background": "light"
     },
     "output_type": "display_data"
    }
   ],
   "source": [
    "#criando confusion matrix\n",
    "cm = confusion_matrix(y_train_SMOTE,y_train_pred)\n",
    "\n",
    "#plotando confusion matrix\n",
    "display_cm = ConfusionMatrixDisplay(cm, display_labels=[\"Satisfeito\",\"Não satisfeito\"])\n",
    "display_cm.plot()\n",
    "plt.show()"
   ]
  },
  {
   "cell_type": "markdown",
   "metadata": {
    "id": "gIfqxh3L5iNS"
   },
   "source": [
    "Considerando o contexto, os falsos negativos (cliente não satisfeito previsto como satisfeito) são menos desejáveis que os falsos positivos (cliente satisfeito previsto como não satisfeito), pois uma vez que um FN ocorra, não haveria o conhecimento da insatisfação do cliente e nenhuma providencia seria tomada, correndo o risco do banco perdê-lo. Já para os FP, poderia haver uma ação direcionada para um cliente que na verdade já está satisfeito, o que não traraia nenhuma consequencia negativa, pelo contrário iria aumentar a fidelidade do mesmo.\n",
    "\n",
    "O número de falsos negativos (4628) foi menor que o de falsos positivos (5577). Assim, a proporção reflete o desejado.\n",
    "\n",
    "Também não há discrepância entre o número de acertos com relação as classes, indicando que o modelo não foi tendencioso."
   ]
  },
  {
   "cell_type": "markdown",
   "metadata": {
    "id": "qV6UgSfx4255"
   },
   "source": [
    "### 5.2.2 *Classification Report*"
   ]
  },
  {
   "cell_type": "code",
   "execution_count": 20,
   "metadata": {
    "colab": {
     "base_uri": "https://localhost:8080/"
    },
    "executionInfo": {
     "elapsed": 311,
     "status": "ok",
     "timestamp": 1637504822432,
     "user": {
      "displayName": "Vinicius Torres",
      "photoUrl": "https://lh3.googleusercontent.com/a-/AOh14Gi7_GrT2W8orC2ZlsdE18Qb-KmZfu97QSKn5_3ShA=s64",
      "userId": "05864275258511900383"
     },
     "user_tz": 180
    },
    "id": "gGlK8OIf49lq",
    "outputId": "c9ae1866-5b0d-4cc1-b379-4eb9c0e01cbd"
   },
   "outputs": [
    {
     "name": "stdout",
     "output_type": "stream",
     "text": [
      "              precision    recall  f1-score   support\n",
      "\n",
      "           0       0.94      0.92      0.93     73012\n",
      "           1       0.92      0.94      0.93     73012\n",
      "\n",
      "    accuracy                           0.93    146024\n",
      "   macro avg       0.93      0.93      0.93    146024\n",
      "weighted avg       0.93      0.93      0.93    146024\n",
      "\n"
     ]
    }
   ],
   "source": [
    "print(classification_report(y_train_SMOTE, y_train_pred))"
   ]
  },
  {
   "cell_type": "markdown",
   "metadata": {
    "id": "n7gHzMSy5O0M"
   },
   "source": [
    "A precisão e o recall estão elevados e proximos entre si e o f1-score está próximo a 1."
   ]
  },
  {
   "cell_type": "markdown",
   "metadata": {
    "id": "0jDvnUlb7ucj"
   },
   "source": [
    "## 5.3 Treinando o modelo e fazendo previsões nos dados de teste"
   ]
  },
  {
   "cell_type": "code",
   "execution_count": null,
   "metadata": {
    "id": "qNEN-p7V728D"
   },
   "outputs": [],
   "source": [
    "#treinando o modelo\n",
    "final_model = clf.fit(X_train_componentes, y_train_SMOTE)"
   ]
  },
  {
   "cell_type": "code",
   "execution_count": null,
   "metadata": {
    "id": "2TRLl0Eg8Pk_"
   },
   "outputs": [],
   "source": [
    "# salvando modelo treinado\n",
    "pickle.dump(final_model, open(\"final_model.sav\", 'wb'))\n",
    "#result = loaded_model.score(X_test, Y_test)\n",
    "#print(result)"
   ]
  },
  {
   "cell_type": "code",
   "execution_count": null,
   "metadata": {
    "id": "KlqP9b3N9_OH"
   },
   "outputs": [],
   "source": [
    "#carregando modelo treinado\n",
    "final_model = pickle.load(open(\"final_model.sav\", 'rb'))"
   ]
  },
  {
   "cell_type": "code",
   "execution_count": null,
   "metadata": {
    "id": "AMtHsWRm-Eie"
   },
   "outputs": [],
   "source": [
    "#carregando dataset de teste\n",
    "X_test = df = pd.read_csv(\"test.csv\", index_col=\"ID\")"
   ]
  },
  {
   "cell_type": "markdown",
   "metadata": {},
   "source": [
    "### 5.3.1 Pipeline com as mesmas etapas de pré-processamento realizada nos dados de treino"
   ]
  },
  {
   "cell_type": "code",
   "execution_count": null,
   "metadata": {
    "id": "JY0G0ghZ-SBk"
   },
   "outputs": [],
   "source": [
    "#definindo pipeline\n",
    "process = Pipeline([\n",
    "                    (\"padronizacao\", scaler),\n",
    "                    (\"PCA\", pca)\n",
    "\n",
    "])\n"
   ]
  },
  {
   "cell_type": "code",
   "execution_count": null,
   "metadata": {
    "id": "ivHU5eq8Aq7K"
   },
   "outputs": [],
   "source": [
    "#aplicando pipeline nos dados de treino\n",
    "X_test_componentes_padr = process.transform(X_test)"
   ]
  },
  {
   "cell_type": "markdown",
   "metadata": {},
   "source": [
    "### 5.3.2 Realizando previsões nos dados de teste"
   ]
  },
  {
   "cell_type": "code",
   "execution_count": null,
   "metadata": {
    "id": "jqb_Ey8TDAEG"
   },
   "outputs": [],
   "source": [
    "#realizando previsões\n",
    "y_test_pred = final_model.predict(X_test_componentes_padr)"
   ]
  },
  {
   "cell_type": "code",
   "execution_count": null,
   "metadata": {
    "id": "YeCBDMLgDiwS"
   },
   "outputs": [],
   "source": [
    "final_df = pd.DataFrame(y_test_pred, columns=[\"Previsões\"])"
   ]
  },
  {
   "cell_type": "code",
   "execution_count": null,
   "metadata": {
    "id": "8fyYcmhKG0TH"
   },
   "outputs": [],
   "source": [
    "final_df.replace(to_replace={0:\"satisfeito\",1:\"insatisfeito\"}, inplace= True)"
   ]
  },
  {
   "cell_type": "code",
   "execution_count": null,
   "metadata": {
    "colab": {
     "base_uri": "https://localhost:8080/",
     "height": 206
    },
    "executionInfo": {
     "elapsed": 297,
     "status": "ok",
     "timestamp": 1637508850971,
     "user": {
      "displayName": "Vinicius Torres",
      "photoUrl": "https://lh3.googleusercontent.com/a-/AOh14Gi7_GrT2W8orC2ZlsdE18Qb-KmZfu97QSKn5_3ShA=s64",
      "userId": "05864275258511900383"
     },
     "user_tz": 180
    },
    "id": "IpLbXNJ9HJUF",
    "outputId": "3f297bf5-f0c7-4f38-8494-1e5abb537f89"
   },
   "outputs": [
    {
     "data": {
      "text/html": [
       "<div>\n",
       "<style scoped>\n",
       "    .dataframe tbody tr th:only-of-type {\n",
       "        vertical-align: middle;\n",
       "    }\n",
       "\n",
       "    .dataframe tbody tr th {\n",
       "        vertical-align: top;\n",
       "    }\n",
       "\n",
       "    .dataframe thead th {\n",
       "        text-align: right;\n",
       "    }\n",
       "</style>\n",
       "<table border=\"1\" class=\"dataframe\">\n",
       "  <thead>\n",
       "    <tr style=\"text-align: right;\">\n",
       "      <th></th>\n",
       "      <th>Previsões</th>\n",
       "    </tr>\n",
       "  </thead>\n",
       "  <tbody>\n",
       "    <tr>\n",
       "      <th>0</th>\n",
       "      <td>satisfeito</td>\n",
       "    </tr>\n",
       "    <tr>\n",
       "      <th>1</th>\n",
       "      <td>satisfeito</td>\n",
       "    </tr>\n",
       "    <tr>\n",
       "      <th>2</th>\n",
       "      <td>satisfeito</td>\n",
       "    </tr>\n",
       "    <tr>\n",
       "      <th>3</th>\n",
       "      <td>satisfeito</td>\n",
       "    </tr>\n",
       "    <tr>\n",
       "      <th>4</th>\n",
       "      <td>satisfeito</td>\n",
       "    </tr>\n",
       "  </tbody>\n",
       "</table>\n",
       "</div>"
      ],
      "text/plain": [
       "    Previsões\n",
       "0  satisfeito\n",
       "1  satisfeito\n",
       "2  satisfeito\n",
       "3  satisfeito\n",
       "4  satisfeito"
      ]
     },
     "execution_count": 100,
     "metadata": {},
     "output_type": "execute_result"
    }
   ],
   "source": [
    "final_df.head()"
   ]
  },
  {
   "cell_type": "code",
   "execution_count": null,
   "metadata": {
    "colab": {
     "base_uri": "https://localhost:8080/"
    },
    "executionInfo": {
     "elapsed": 294,
     "status": "ok",
     "timestamp": 1637508853630,
     "user": {
      "displayName": "Vinicius Torres",
      "photoUrl": "https://lh3.googleusercontent.com/a-/AOh14Gi7_GrT2W8orC2ZlsdE18Qb-KmZfu97QSKn5_3ShA=s64",
      "userId": "05864275258511900383"
     },
     "user_tz": 180
    },
    "id": "fivIT4d3HNtC",
    "outputId": "e8c580b6-71c8-4d8e-95e0-7904b43d86cd"
   },
   "outputs": [
    {
     "data": {
      "text/plain": [
       "satisfeito      70128\n",
       "insatisfeito     5690\n",
       "Name: Previsões, dtype: int64"
      ]
     },
     "execution_count": 101,
     "metadata": {},
     "output_type": "execute_result"
    }
   ],
   "source": [
    "final_df[\"Previsões\"].value_counts()"
   ]
  },
  {
   "cell_type": "code",
   "execution_count": null,
   "metadata": {
    "id": "lwo9pKz1H-Ug"
   },
   "outputs": [],
   "source": [
    "#exportando previsões\n",
    "final_df.to_csv(\"Previsões_finais.csv\")"
   ]
  }
 ],
 "metadata": {
  "colab": {
   "authorship_tag": "ABX9TyMK/XiGqZl8ApjoeflJxmGM",
   "collapsed_sections": [],
   "name": "Projeto 03_entrega.ipnyb",
   "provenance": []
  },
  "kernelspec": {
   "display_name": "Python 3 (ipykernel)",
   "language": "python",
   "name": "python3"
  },
  "language_info": {
   "codemirror_mode": {
    "name": "ipython",
    "version": 3
   },
   "file_extension": ".py",
   "mimetype": "text/x-python",
   "name": "python",
   "nbconvert_exporter": "python",
   "pygments_lexer": "ipython3",
   "version": "3.9.7"
  },
  "toc-showmarkdowntxt": false
 },
 "nbformat": 4,
 "nbformat_minor": 4
}
